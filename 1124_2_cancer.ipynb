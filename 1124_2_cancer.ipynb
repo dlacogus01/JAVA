{
  "nbformat": 4,
  "nbformat_minor": 0,
  "metadata": {
    "colab": {
      "provenance": [],
      "authorship_tag": "ABX9TyMp8soSVfQp8be0vk/DldHk",
      "include_colab_link": true
    },
    "kernelspec": {
      "name": "python3",
      "display_name": "Python 3"
    },
    "language_info": {
      "name": "python"
    }
  },
  "cells": [
    {
      "cell_type": "markdown",
      "metadata": {
        "id": "view-in-github",
        "colab_type": "text"
      },
      "source": [
        "<a href=\"https://colab.research.google.com/github/dlacogus01/JAVA/blob/master/1124_2_cancer.ipynb\" target=\"_parent\"><img src=\"https://colab.research.google.com/assets/colab-badge.svg\" alt=\"Open In Colab\"/></a>"
      ]
    },
    {
      "cell_type": "code",
      "execution_count": 50,
      "metadata": {
        "id": "tqjXWNl_igve"
      },
      "outputs": [],
      "source": [
        "import numpy as np\n",
        "import pandas as pd\n",
        "import matplotlib.pyplot as plt\n",
        "from sklearn.model_selection import train_test_split\n",
        "from sklearn.neighbors import KNeighborsClassifier\n",
        "\n",
        "from matplotlib import font_manager, rc\n",
        "\n",
        "#plt.rc('font', family='NanumGothic')\n",
        "#print(plt.rcParams['font.family'])\n",
        "\n",
        "from sklearn.datasets import load_breast_cancer"
      ]
    },
    {
      "cell_type": "code",
      "source": [
        "import matplotlib.font_manager as fm\n",
        "fm.findSystemFonts(fontpaths=None, fontext='ttf')"
      ],
      "metadata": {
        "colab": {
          "base_uri": "https://localhost:8080/"
        },
        "id": "8TwA5qfSUqqx",
        "outputId": "9f25a96d-662c-4663-f530-418307205d6d"
      },
      "execution_count": 46,
      "outputs": [
        {
          "output_type": "execute_result",
          "data": {
            "text/plain": [
              "['/usr/share/fonts/truetype/liberation/LiberationSansNarrow-Regular.ttf',\n",
              " '/usr/share/fonts/truetype/liberation/LiberationSerif-Bold.ttf',\n",
              " '/usr/share/fonts/truetype/liberation/LiberationMono-Regular.ttf',\n",
              " '/usr/share/fonts/truetype/liberation/LiberationSerif-BoldItalic.ttf',\n",
              " '/usr/share/fonts/truetype/liberation/LiberationSerif-Regular.ttf',\n",
              " '/usr/share/fonts/truetype/liberation/LiberationSans-Italic.ttf',\n",
              " '/usr/share/fonts/truetype/liberation/LiberationSans-BoldItalic.ttf',\n",
              " '/usr/share/fonts/truetype/liberation/LiberationSerif-Italic.ttf',\n",
              " '/usr/share/fonts/truetype/liberation/LiberationSansNarrow-Bold.ttf',\n",
              " '/usr/share/fonts/truetype/humor-sans/Humor-Sans.ttf',\n",
              " '/usr/share/fonts/truetype/liberation/LiberationMono-BoldItalic.ttf',\n",
              " '/usr/share/fonts/truetype/liberation/LiberationMono-Italic.ttf',\n",
              " '/usr/share/fonts/truetype/liberation/LiberationSans-Bold.ttf',\n",
              " '/usr/share/fonts/truetype/liberation/LiberationSansNarrow-Italic.ttf',\n",
              " '/usr/share/fonts/truetype/liberation/LiberationSans-Regular.ttf',\n",
              " '/usr/share/fonts/truetype/liberation/LiberationMono-Bold.ttf',\n",
              " '/usr/share/fonts/truetype/liberation/LiberationSansNarrow-BoldItalic.ttf']"
            ]
          },
          "metadata": {},
          "execution_count": 46
        }
      ]
    },
    {
      "cell_type": "code",
      "source": [
        "cancer = load_breast_cancer()\n",
        "print(\"cacner.keys():\\n\", cancer.keys())"
      ],
      "metadata": {
        "colab": {
          "base_uri": "https://localhost:8080/"
        },
        "id": "oKzS7yFm59Pp",
        "outputId": "356c9143-9bc5-4631-8792-81870d16410a"
      },
      "execution_count": 3,
      "outputs": [
        {
          "output_type": "stream",
          "name": "stdout",
          "text": [
            "cacner.keys():\n",
            " dict_keys(['data', 'target', 'frame', 'target_names', 'DESCR', 'feature_names', 'filename', 'data_module'])\n"
          ]
        }
      ]
    },
    {
      "cell_type": "code",
      "source": [
        "print(\"유방암 데이터의 형태:\", cancer.data.shape)\n",
        "# 데이터 포인트 : 569  특성 : 30"
      ],
      "metadata": {
        "colab": {
          "base_uri": "https://localhost:8080/"
        },
        "id": "nkaeDXFH6Kp_",
        "outputId": "cd1b41b1-5a61-461e-f285-62b396155aff"
      },
      "execution_count": 7,
      "outputs": [
        {
          "output_type": "stream",
          "name": "stdout",
          "text": [
            "유방암 데이터의 형태: (569, 30)\n"
          ]
        }
      ]
    },
    {
      "cell_type": "markdown",
      "source": [
        "bincount :  \n",
        "non negative integer로 구성된 Numpy array에서 각각의 빈도수를 카운트하는데 사용되는 메소드"
      ],
      "metadata": {
        "id": "bCF_SJvt8NfE"
      }
    },
    {
      "cell_type": "code",
      "source": [
        "print(\"클래스별 샘플 개수:\\n\",\n",
        "      {n: v for n, v in zip(cancer.target_names, np.bincount(cancer.target))})\n",
        "# 악성 : 212 양성 : 357"
      ],
      "metadata": {
        "colab": {
          "base_uri": "https://localhost:8080/"
        },
        "id": "5IgNMxL_6Rxf",
        "outputId": "cbe0b4c1-857d-4731-f885-0eaee8a1604b"
      },
      "execution_count": 8,
      "outputs": [
        {
          "output_type": "stream",
          "name": "stdout",
          "text": [
            "클래스별 샘플 개수:\n",
            " {'malignant': 212, 'benign': 357}\n"
          ]
        }
      ]
    },
    {
      "cell_type": "code",
      "source": [
        "print(\"특성 이름:\\n\", cancer.feature_names)\n",
        "# 각 특성의 의미"
      ],
      "metadata": {
        "colab": {
          "base_uri": "https://localhost:8080/"
        },
        "id": "6AVejYiK7fLB",
        "outputId": "55660594-d841-4ff3-d789-4a2024197c38"
      },
      "execution_count": 9,
      "outputs": [
        {
          "output_type": "stream",
          "name": "stdout",
          "text": [
            "특성 이름:\n",
            " ['mean radius' 'mean texture' 'mean perimeter' 'mean area'\n",
            " 'mean smoothness' 'mean compactness' 'mean concavity'\n",
            " 'mean concave points' 'mean symmetry' 'mean fractal dimension'\n",
            " 'radius error' 'texture error' 'perimeter error' 'area error'\n",
            " 'smoothness error' 'compactness error' 'concavity error'\n",
            " 'concave points error' 'symmetry error' 'fractal dimension error'\n",
            " 'worst radius' 'worst texture' 'worst perimeter' 'worst area'\n",
            " 'worst smoothness' 'worst compactness' 'worst concavity'\n",
            " 'worst concave points' 'worst symmetry' 'worst fractal dimension']\n"
          ]
        }
      ]
    },
    {
      "cell_type": "code",
      "source": [],
      "metadata": {
        "id": "LwwKruxy8qIR"
      },
      "execution_count": 9,
      "outputs": []
    },
    {
      "cell_type": "code",
      "source": [
        "# #X_train, X_test, y_train, y_test = train_test_split(\n",
        "# #    cancer.data, cancer.target, stratify=cancer.target, random_state=66)\n",
        "# # stratify 지정한 값의 비율 유지\n",
        "# # stratify 값은 target 값을 줘야함\n",
        "\n",
        "# training_accuracy = []\n",
        "# test_accuracy = []\n",
        "\n",
        "# # 1에서 10까지 n_neighbors 적용\n",
        "# neighbors_settings = range(1,11)\n",
        "\n",
        "# for n_neighbors in neighbors_settings:\n",
        "#   # 모델 생성\n",
        "#   clf = KNeighborsClassifier(n_neighbors = n_neighbors)\n",
        "#   clf.fit(X_train, y_train)\n",
        "#   # 훈련 세트 정확도 저장\n",
        "#   training_accuracy.append(clf.score(X_train, y_train))\n",
        "#   # 일반화 정확도 저장\n",
        "#   test_accuracy.append(clf.score(X_test, y_test))\n",
        "\n",
        "# plt.plot(neighbors_settings, training_accuracy, label = \"훈련 정확도\")\n",
        "# plt.plot(neighbors_settings, test_accuracy, label = \"테스트 정확도\")\n",
        "# plt.ylabel(\"정확도\")\n",
        "# plt.xlabel(\"n_neighbors\")\n",
        "# plt.legend()"
      ],
      "metadata": {
        "id": "bjDJwDE29Ak8"
      },
      "execution_count": 59,
      "outputs": []
    },
    {
      "cell_type": "code",
      "source": [
        "#pip install mglearn"
      ],
      "metadata": {
        "colab": {
          "base_uri": "https://localhost:8080/"
        },
        "id": "1pAloCWw9TNU",
        "outputId": "253369d6-f33a-47a4-f1b7-ed03c2a3f1ba"
      },
      "execution_count": 52,
      "outputs": [
        {
          "output_type": "stream",
          "name": "stdout",
          "text": [
            "Collecting mglearn\n",
            "  Downloading mglearn-0.2.0-py2.py3-none-any.whl (581 kB)\n",
            "\u001b[2K     \u001b[90m━━━━━━━━━━━━━━━━━━━━━━━━━━━━━━━━━━━━━━━━\u001b[0m \u001b[32m581.4/581.4 kB\u001b[0m \u001b[31m6.9 MB/s\u001b[0m eta \u001b[36m0:00:00\u001b[0m\n",
            "\u001b[?25hRequirement already satisfied: numpy in /usr/local/lib/python3.10/dist-packages (from mglearn) (1.23.5)\n",
            "Requirement already satisfied: matplotlib in /usr/local/lib/python3.10/dist-packages (from mglearn) (3.7.1)\n",
            "Requirement already satisfied: scikit-learn in /usr/local/lib/python3.10/dist-packages (from mglearn) (1.2.2)\n",
            "Requirement already satisfied: pandas in /usr/local/lib/python3.10/dist-packages (from mglearn) (1.5.3)\n",
            "Requirement already satisfied: pillow in /usr/local/lib/python3.10/dist-packages (from mglearn) (9.4.0)\n",
            "Requirement already satisfied: cycler in /usr/local/lib/python3.10/dist-packages (from mglearn) (0.12.1)\n",
            "Requirement already satisfied: imageio in /usr/local/lib/python3.10/dist-packages (from mglearn) (2.31.6)\n",
            "Requirement already satisfied: joblib in /usr/local/lib/python3.10/dist-packages (from mglearn) (1.3.2)\n",
            "Requirement already satisfied: contourpy>=1.0.1 in /usr/local/lib/python3.10/dist-packages (from matplotlib->mglearn) (1.2.0)\n",
            "Requirement already satisfied: fonttools>=4.22.0 in /usr/local/lib/python3.10/dist-packages (from matplotlib->mglearn) (4.44.3)\n",
            "Requirement already satisfied: kiwisolver>=1.0.1 in /usr/local/lib/python3.10/dist-packages (from matplotlib->mglearn) (1.4.5)\n",
            "Requirement already satisfied: packaging>=20.0 in /usr/local/lib/python3.10/dist-packages (from matplotlib->mglearn) (23.2)\n",
            "Requirement already satisfied: pyparsing>=2.3.1 in /usr/local/lib/python3.10/dist-packages (from matplotlib->mglearn) (3.1.1)\n",
            "Requirement already satisfied: python-dateutil>=2.7 in /usr/local/lib/python3.10/dist-packages (from matplotlib->mglearn) (2.8.2)\n",
            "Requirement already satisfied: pytz>=2020.1 in /usr/local/lib/python3.10/dist-packages (from pandas->mglearn) (2023.3.post1)\n",
            "Requirement already satisfied: scipy>=1.3.2 in /usr/local/lib/python3.10/dist-packages (from scikit-learn->mglearn) (1.11.3)\n",
            "Requirement already satisfied: threadpoolctl>=2.0.0 in /usr/local/lib/python3.10/dist-packages (from scikit-learn->mglearn) (3.2.0)\n",
            "Requirement already satisfied: six>=1.5 in /usr/local/lib/python3.10/dist-packages (from python-dateutil>=2.7->matplotlib->mglearn) (1.16.0)\n",
            "Installing collected packages: mglearn\n",
            "Successfully installed mglearn-0.2.0\n"
          ]
        }
      ]
    },
    {
      "cell_type": "code",
      "source": [
        "import mglearn"
      ],
      "metadata": {
        "id": "RlBWSmGuZ5Ni"
      },
      "execution_count": 53,
      "outputs": []
    },
    {
      "cell_type": "code",
      "source": [
        "from sklearn.neighbors import KNeighborsRegressor\n",
        "\n",
        "X, y = mglearn.datasets.make_wave(n_samples=40)\n",
        "\n",
        "X_train, X_test, y_train, y_test = train_test_split(X, y, random_state=0)\n",
        "\n",
        "print(X_train.shape)\n",
        "print(y_train.shape)\n",
        "# 이웃의 수를 3으로 하여 모델의 객체를 만든다\n",
        "reg = KNeighborsRegressor(n_neighbors=3)\n",
        "# 훈련 데이터와 타깃을 사용하여 모델을 학습 시킴\n",
        "reg.fit(X_train, y_train)"
      ],
      "metadata": {
        "colab": {
          "base_uri": "https://localhost:8080/",
          "height": 111
        },
        "id": "-1EucdGiaGyL",
        "outputId": "b3d58df0-1709-4592-c35b-b2c9c82dc7cf"
      },
      "execution_count": 68,
      "outputs": [
        {
          "output_type": "stream",
          "name": "stdout",
          "text": [
            "(30, 1)\n",
            "(30,)\n"
          ]
        },
        {
          "output_type": "execute_result",
          "data": {
            "text/plain": [
              "KNeighborsRegressor(n_neighbors=3)"
            ],
            "text/html": [
              "<style>#sk-container-id-2 {color: black;background-color: white;}#sk-container-id-2 pre{padding: 0;}#sk-container-id-2 div.sk-toggleable {background-color: white;}#sk-container-id-2 label.sk-toggleable__label {cursor: pointer;display: block;width: 100%;margin-bottom: 0;padding: 0.3em;box-sizing: border-box;text-align: center;}#sk-container-id-2 label.sk-toggleable__label-arrow:before {content: \"▸\";float: left;margin-right: 0.25em;color: #696969;}#sk-container-id-2 label.sk-toggleable__label-arrow:hover:before {color: black;}#sk-container-id-2 div.sk-estimator:hover label.sk-toggleable__label-arrow:before {color: black;}#sk-container-id-2 div.sk-toggleable__content {max-height: 0;max-width: 0;overflow: hidden;text-align: left;background-color: #f0f8ff;}#sk-container-id-2 div.sk-toggleable__content pre {margin: 0.2em;color: black;border-radius: 0.25em;background-color: #f0f8ff;}#sk-container-id-2 input.sk-toggleable__control:checked~div.sk-toggleable__content {max-height: 200px;max-width: 100%;overflow: auto;}#sk-container-id-2 input.sk-toggleable__control:checked~label.sk-toggleable__label-arrow:before {content: \"▾\";}#sk-container-id-2 div.sk-estimator input.sk-toggleable__control:checked~label.sk-toggleable__label {background-color: #d4ebff;}#sk-container-id-2 div.sk-label input.sk-toggleable__control:checked~label.sk-toggleable__label {background-color: #d4ebff;}#sk-container-id-2 input.sk-hidden--visually {border: 0;clip: rect(1px 1px 1px 1px);clip: rect(1px, 1px, 1px, 1px);height: 1px;margin: -1px;overflow: hidden;padding: 0;position: absolute;width: 1px;}#sk-container-id-2 div.sk-estimator {font-family: monospace;background-color: #f0f8ff;border: 1px dotted black;border-radius: 0.25em;box-sizing: border-box;margin-bottom: 0.5em;}#sk-container-id-2 div.sk-estimator:hover {background-color: #d4ebff;}#sk-container-id-2 div.sk-parallel-item::after {content: \"\";width: 100%;border-bottom: 1px solid gray;flex-grow: 1;}#sk-container-id-2 div.sk-label:hover label.sk-toggleable__label {background-color: #d4ebff;}#sk-container-id-2 div.sk-serial::before {content: \"\";position: absolute;border-left: 1px solid gray;box-sizing: border-box;top: 0;bottom: 0;left: 50%;z-index: 0;}#sk-container-id-2 div.sk-serial {display: flex;flex-direction: column;align-items: center;background-color: white;padding-right: 0.2em;padding-left: 0.2em;position: relative;}#sk-container-id-2 div.sk-item {position: relative;z-index: 1;}#sk-container-id-2 div.sk-parallel {display: flex;align-items: stretch;justify-content: center;background-color: white;position: relative;}#sk-container-id-2 div.sk-item::before, #sk-container-id-2 div.sk-parallel-item::before {content: \"\";position: absolute;border-left: 1px solid gray;box-sizing: border-box;top: 0;bottom: 0;left: 50%;z-index: -1;}#sk-container-id-2 div.sk-parallel-item {display: flex;flex-direction: column;z-index: 1;position: relative;background-color: white;}#sk-container-id-2 div.sk-parallel-item:first-child::after {align-self: flex-end;width: 50%;}#sk-container-id-2 div.sk-parallel-item:last-child::after {align-self: flex-start;width: 50%;}#sk-container-id-2 div.sk-parallel-item:only-child::after {width: 0;}#sk-container-id-2 div.sk-dashed-wrapped {border: 1px dashed gray;margin: 0 0.4em 0.5em 0.4em;box-sizing: border-box;padding-bottom: 0.4em;background-color: white;}#sk-container-id-2 div.sk-label label {font-family: monospace;font-weight: bold;display: inline-block;line-height: 1.2em;}#sk-container-id-2 div.sk-label-container {text-align: center;}#sk-container-id-2 div.sk-container {/* jupyter's `normalize.less` sets `[hidden] { display: none; }` but bootstrap.min.css set `[hidden] { display: none !important; }` so we also need the `!important` here to be able to override the default hidden behavior on the sphinx rendered scikit-learn.org. See: https://github.com/scikit-learn/scikit-learn/issues/21755 */display: inline-block !important;position: relative;}#sk-container-id-2 div.sk-text-repr-fallback {display: none;}</style><div id=\"sk-container-id-2\" class=\"sk-top-container\"><div class=\"sk-text-repr-fallback\"><pre>KNeighborsRegressor(n_neighbors=3)</pre><b>In a Jupyter environment, please rerun this cell to show the HTML representation or trust the notebook. <br />On GitHub, the HTML representation is unable to render, please try loading this page with nbviewer.org.</b></div><div class=\"sk-container\" hidden><div class=\"sk-item\"><div class=\"sk-estimator sk-toggleable\"><input class=\"sk-toggleable__control sk-hidden--visually\" id=\"sk-estimator-id-2\" type=\"checkbox\" checked><label for=\"sk-estimator-id-2\" class=\"sk-toggleable__label sk-toggleable__label-arrow\">KNeighborsRegressor</label><div class=\"sk-toggleable__content\"><pre>KNeighborsRegressor(n_neighbors=3)</pre></div></div></div></div></div>"
            ]
          },
          "metadata": {},
          "execution_count": 68
        }
      ]
    },
    {
      "cell_type": "code",
      "source": [
        "print(\"테스트 세트 예측:\\n\", reg.predict(X_test))"
      ],
      "metadata": {
        "colab": {
          "base_uri": "https://localhost:8080/"
        },
        "id": "9N-6rq9maS8D",
        "outputId": "faac61aa-7d73-4504-9ebe-17aeffd9b378"
      },
      "execution_count": 69,
      "outputs": [
        {
          "output_type": "stream",
          "name": "stdout",
          "text": [
            "테스트 세트 예측:\n",
            " [-0.05396539  0.35686046  1.13671923 -1.89415682 -1.13881398 -1.63113382\n",
            "  0.35686046  0.91241374 -0.44680446 -1.13881398]\n"
          ]
        }
      ]
    },
    {
      "cell_type": "markdown",
      "source": [
        "결정계수(R^2) : 회귀 모델에서 예측의 적합도를 측정한 것으로 보통 0과 1 사이의 값   \n",
        "1: 예측이 완벽한 경우   \n",
        "0: 훈련 세트의 출력값인 y_train의 평균만으로 예측하는 모델의 경우"
      ],
      "metadata": {
        "id": "L3LDpsSmg-vE"
      }
    },
    {
      "cell_type": "code",
      "source": [
        "print(\"테스트 세트 R^2: {:.2f}\".format(reg.score(X_test, y_test)))"
      ],
      "metadata": {
        "colab": {
          "base_uri": "https://localhost:8080/"
        },
        "id": "oGqKRwjyhemu",
        "outputId": "6df51606-ad59-4306-9589-10dc5d616bc4"
      },
      "execution_count": 70,
      "outputs": [
        {
          "output_type": "stream",
          "name": "stdout",
          "text": [
            "테스트 세트 R^2: 0.83\n"
          ]
        }
      ]
    },
    {
      "cell_type": "code",
      "source": [],
      "metadata": {
        "id": "d08LokLmiULz"
      },
      "execution_count": null,
      "outputs": []
    }
  ]
}