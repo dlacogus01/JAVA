{
  "nbformat": 4,
  "nbformat_minor": 0,
  "metadata": {
    "colab": {
      "provenance": [],
      "authorship_tag": "ABX9TyNZu5montWcHxE5KZgZwKps",
      "include_colab_link": true
    },
    "kernelspec": {
      "name": "python3",
      "display_name": "Python 3"
    },
    "language_info": {
      "name": "python"
    }
  },
  "cells": [
    {
      "cell_type": "markdown",
      "metadata": {
        "id": "view-in-github",
        "colab_type": "text"
      },
      "source": [
        "<a href=\"https://colab.research.google.com/github/dlacogus01/JAVA/blob/master/100_python_%EC%9E%90%EB%A3%8C%ED%98%95.ipynb\" target=\"_parent\"><img src=\"https://colab.research.google.com/assets/colab-badge.svg\" alt=\"Open In Colab\"/></a>"
      ]
    },
    {
      "cell_type": "markdown",
      "source": [
        "https://www.python.org/  \n",
        "https://peps.python.org/pep-0008/\n",
        "\n",
        "https://wikidocs.net/book/1   \n",
        "https://dojang.io/"
      ],
      "metadata": {
        "id": "lRlDxbve0fqO"
      }
    },
    {
      "cell_type": "code",
      "execution_count": 2,
      "metadata": {
        "colab": {
          "base_uri": "https://localhost:8080/"
        },
        "id": "U9LMvDrf0FUt",
        "outputId": "4562f57b-5625-4267-f767-a4301131ee91"
      },
      "outputs": [
        {
          "output_type": "stream",
          "name": "stdout",
          "text": [
            "Python 3.10.12\n"
          ]
        }
      ],
      "source": [
        "!python --version"
      ]
    },
    {
      "cell_type": "code",
      "source": [
        "# python에서 추구하는 철학\n",
        "import this"
      ],
      "metadata": {
        "colab": {
          "base_uri": "https://localhost:8080/"
        },
        "id": "pdoBwobp0clB",
        "outputId": "f220c833-cf5d-4f51-bb6c-0efdd7114e36"
      },
      "execution_count": 3,
      "outputs": [
        {
          "output_type": "stream",
          "name": "stdout",
          "text": [
            "The Zen of Python, by Tim Peters\n",
            "\n",
            "Beautiful is better than ugly.\n",
            "Explicit is better than implicit.\n",
            "Simple is better than complex.\n",
            "Complex is better than complicated.\n",
            "Flat is better than nested.\n",
            "Sparse is better than dense.\n",
            "Readability counts.\n",
            "Special cases aren't special enough to break the rules.\n",
            "Although practicality beats purity.\n",
            "Errors should never pass silently.\n",
            "Unless explicitly silenced.\n",
            "In the face of ambiguity, refuse the temptation to guess.\n",
            "There should be one-- and preferably only one --obvious way to do it.\n",
            "Although that way may not be obvious at first unless you're Dutch.\n",
            "Now is better than never.\n",
            "Although never is often better than *right* now.\n",
            "If the implementation is hard to explain, it's a bad idea.\n",
            "If the implementation is easy to explain, it may be a good idea.\n",
            "Namespaces are one honking great idea -- let's do more of those!\n"
          ]
        }
      ]
    },
    {
      "cell_type": "code",
      "source": [
        "import keyword\n",
        "print(keyword.kwlist)\n",
        "print(len(keyword.kwlist))"
      ],
      "metadata": {
        "colab": {
          "base_uri": "https://localhost:8080/"
        },
        "id": "9lTMZgLL2JbJ",
        "outputId": "446d284f-5be0-42fc-c97f-cc75eaf9b753"
      },
      "execution_count": 5,
      "outputs": [
        {
          "output_type": "stream",
          "name": "stdout",
          "text": [
            "['False', 'None', 'True', 'and', 'as', 'assert', 'async', 'await', 'break', 'class', 'continue', 'def', 'del', 'elif', 'else', 'except', 'finally', 'for', 'from', 'global', 'if', 'import', 'in', 'is', 'lambda', 'nonlocal', 'not', 'or', 'pass', 'raise', 'return', 'try', 'while', 'with', 'yield']\n",
            "35\n"
          ]
        }
      ]
    },
    {
      "cell_type": "code",
      "source": [
        "print('Hello World')\n",
        "'Hello World'"
      ],
      "metadata": {
        "colab": {
          "base_uri": "https://localhost:8080/",
          "height": 54
        },
        "id": "s0MuTj0v2q_A",
        "outputId": "4cf47c16-345a-44b6-f29c-b6ff1bca256d"
      },
      "execution_count": 7,
      "outputs": [
        {
          "output_type": "stream",
          "name": "stdout",
          "text": [
            "Hello World\n"
          ]
        },
        {
          "output_type": "execute_result",
          "data": {
            "text/plain": [
              "'Hello World'"
            ],
            "application/vnd.google.colaboratory.intrinsic+json": {
              "type": "string"
            }
          },
          "metadata": {},
          "execution_count": 7
        }
      ]
    },
    {
      "cell_type": "code",
      "source": [
        "# ; (세미콜론)은 문장의 끝을 의미\n",
        "# 하나의 문장이 끝나면 문장의 끝에 세미콜론을 입력\n",
        "# 하지만 파이썬에서는 줄바꿈에서만 입력하면 생략 가능\n",
        "print('Hello World'); print('Hello World')"
      ],
      "metadata": {
        "colab": {
          "base_uri": "https://localhost:8080/"
        },
        "id": "f8VFe89d3Nug",
        "outputId": "f43bb462-1fd3-44ea-da6f-7d058983ae12"
      },
      "execution_count": 8,
      "outputs": [
        {
          "output_type": "stream",
          "name": "stdout",
          "text": [
            "Hello World\n",
            "Hello World\n"
          ]
        }
      ]
    },
    {
      "cell_type": "code",
      "source": [
        "# 변수(variable) : 값을 저장하는 메모리 공간\n",
        "a = 10; b = 20\n",
        "if(a==10) and \\\n",
        " (b==20):\n",
        "  print('OK')\n",
        "else:\n",
        "  print('NO')"
      ],
      "metadata": {
        "colab": {
          "base_uri": "https://localhost:8080/"
        },
        "id": "wRqS_LLh3ysw",
        "outputId": "87619fa3-4519-4ace-a8c2-2f372dc55029"
      },
      "execution_count": 12,
      "outputs": [
        {
          "output_type": "stream",
          "name": "stdout",
          "text": [
            "OK\n"
          ]
        }
      ]
    },
    {
      "cell_type": "code",
      "source": [
        "start = end = 1\n",
        "print(start)\n",
        "print(end)"
      ],
      "metadata": {
        "colab": {
          "base_uri": "https://localhost:8080/"
        },
        "id": "Qx4HrC5-5vRx",
        "outputId": "ba592a20-ab3f-4122-ff57-7ec6d9c376f4"
      },
      "execution_count": 16,
      "outputs": [
        {
          "output_type": "stream",
          "name": "stdout",
          "text": [
            "1\n",
            "1\n"
          ]
        }
      ]
    },
    {
      "cell_type": "code",
      "source": [
        "# + : 문자열 연결의 의미\n",
        "a = '3' + '4'\n",
        "print(a)"
      ],
      "metadata": {
        "colab": {
          "base_uri": "https://localhost:8080/"
        },
        "id": "1m42_HTUN_Aq",
        "outputId": "2347435e-27bd-449c-c575-1ddc0c4a112c"
      },
      "execution_count": 17,
      "outputs": [
        {
          "output_type": "stream",
          "name": "stdout",
          "text": [
            "34\n"
          ]
        }
      ]
    },
    {
      "cell_type": "code",
      "source": [
        "a = 1\n",
        "a = eval('3+4')\n",
        "print(a)\n",
        "\n",
        "a = eval('a + 3')\n",
        "print(a)\n",
        "\n",
        "a = eval('3' + '4')\n",
        "print(a)"
      ],
      "metadata": {
        "colab": {
          "base_uri": "https://localhost:8080/"
        },
        "id": "MgfmERTcNpTe",
        "outputId": "f82f401d-194c-4ef1-cccc-8c31d70397b1"
      },
      "execution_count": 19,
      "outputs": [
        {
          "output_type": "stream",
          "name": "stdout",
          "text": [
            "7\n",
            "10\n",
            "34\n"
          ]
        }
      ]
    },
    {
      "cell_type": "markdown",
      "source": [
        "## 자료형\n",
        "1. 데이터 저장방법에 따른 자료형의 분류  \n",
        "  직접(direct)형 : 직접 데이터를 표현하는 자료형 : int, float, complex      \n",
        "  시퀀스(sequence)형: 다른 데이터를 포함하는 자료형, 순서가 있는 집합 자료형 : list,str, tuple, bytes, bytearray,range    \n",
        "  매핑(Mapping)형 : 다른 데이터를 포함하는 자료형 : dict    \n",
        "  집합(Set)형 : 순서가 없고, 중복된 값도 없다. : set, frozenset  \n",
        "\n",
        "2. 변경 가능성에 따른 자료형 분류  \n",
        "  변경 가능형(Mutable) : 데이터의 값을 변경할 수 있다.  : list, dict, set  \n",
        "  변경 불가능형(Immutable) : 데이터의 값을 변경할 수 없다. : int, float, complex, str, tuple, frozense\n",
        "\n",
        "3. 데이터 저장 개수에 따른 자료형의 분류\n",
        "\n",
        "  리터널(Literal/Scalar)형 : 한 가지 객체만 저장한다. : int, bytes, str, float, complex  \n",
        "  컨테이널(Container)형 : 여러 가지 객체를 저장한다. : list, tuple, dict, set, fronzenset"
      ],
      "metadata": {
        "id": "0VT3qZBwNxUC"
      }
    },
    {
      "cell_type": "markdown",
      "source": [
        "type() : 데이터 자료형 확인"
      ],
      "metadata": {
        "id": "xiQLwZWbPKXS"
      }
    },
    {
      "cell_type": "code",
      "source": [
        "type(5)"
      ],
      "metadata": {
        "colab": {
          "base_uri": "https://localhost:8080/"
        },
        "id": "vaPl7xEtQPkJ",
        "outputId": "e1cb05fe-c50c-4392-9b38-3b2a8befcdcb"
      },
      "execution_count": 21,
      "outputs": [
        {
          "output_type": "execute_result",
          "data": {
            "text/plain": [
              "int"
            ]
          },
          "metadata": {},
          "execution_count": 21
        }
      ]
    },
    {
      "cell_type": "code",
      "source": [
        "type(85.3)"
      ],
      "metadata": {
        "colab": {
          "base_uri": "https://localhost:8080/"
        },
        "id": "VbfCPgaQQe67",
        "outputId": "31ac4bd2-7419-4e36-d2cd-242fd0409367"
      },
      "execution_count": 22,
      "outputs": [
        {
          "output_type": "execute_result",
          "data": {
            "text/plain": [
              "float"
            ]
          },
          "metadata": {},
          "execution_count": 22
        }
      ]
    },
    {
      "cell_type": "code",
      "source": [
        "type([1, 3, 5])"
      ],
      "metadata": {
        "colab": {
          "base_uri": "https://localhost:8080/"
        },
        "id": "9_rLZOHyQm7C",
        "outputId": "91e7c919-e502-4c79-e98f-85242d5228be"
      },
      "execution_count": 23,
      "outputs": [
        {
          "output_type": "execute_result",
          "data": {
            "text/plain": [
              "list"
            ]
          },
          "metadata": {},
          "execution_count": 23
        }
      ]
    },
    {
      "cell_type": "code",
      "source": [
        "type((2,6,7))"
      ],
      "metadata": {
        "colab": {
          "base_uri": "https://localhost:8080/"
        },
        "id": "jOE67jzdQ835",
        "outputId": "91f84322-33b1-4a42-fce9-bcf589cef28c"
      },
      "execution_count": 24,
      "outputs": [
        {
          "output_type": "execute_result",
          "data": {
            "text/plain": [
              "tuple"
            ]
          },
          "metadata": {},
          "execution_count": 24
        }
      ]
    },
    {
      "cell_type": "code",
      "source": [
        "a = 2,6,7\n",
        "type(a)"
      ],
      "metadata": {
        "colab": {
          "base_uri": "https://localhost:8080/"
        },
        "id": "ZsDnRxx9Q-XB",
        "outputId": "80e26253-7a22-4b2f-a577-4b37f9c15fae"
      },
      "execution_count": 27,
      "outputs": [
        {
          "output_type": "execute_result",
          "data": {
            "text/plain": [
              "tuple"
            ]
          },
          "metadata": {},
          "execution_count": 27
        }
      ]
    },
    {
      "cell_type": "code",
      "source": [
        "def call():\n",
        "  return 2,3,4;"
      ],
      "metadata": {
        "id": "MFFxIPBERQmK"
      },
      "execution_count": 40,
      "outputs": []
    },
    {
      "cell_type": "code",
      "source": [
        "print(call())\n",
        "print(type((call())))"
      ],
      "metadata": {
        "colab": {
          "base_uri": "https://localhost:8080/"
        },
        "id": "aS1uE5BaRsFa",
        "outputId": "93584a33-82a5-4bc8-b9a7-e336187c89bf"
      },
      "execution_count": 44,
      "outputs": [
        {
          "output_type": "stream",
          "name": "stdout",
          "text": [
            "(2, 3, 4)\n",
            "<class 'tuple'>\n"
          ]
        }
      ]
    },
    {
      "cell_type": "code",
      "source": [
        "type({1,2,3})"
      ],
      "metadata": {
        "colab": {
          "base_uri": "https://localhost:8080/"
        },
        "id": "AuzDc2DwRuVy",
        "outputId": "cb78c182-dd43-4546-eb03-90e8c25fa439"
      },
      "execution_count": 39,
      "outputs": [
        {
          "output_type": "execute_result",
          "data": {
            "text/plain": [
              "set"
            ]
          },
          "metadata": {},
          "execution_count": 39
        }
      ]
    },
    {
      "cell_type": "code",
      "source": [
        "type({a:3, b:4})"
      ],
      "metadata": {
        "colab": {
          "base_uri": "https://localhost:8080/"
        },
        "id": "48n3LHHqSlOy",
        "outputId": "386bc77b-1b15-4186-982b-ffc25f67bb0e"
      },
      "execution_count": 43,
      "outputs": [
        {
          "output_type": "execute_result",
          "data": {
            "text/plain": [
              "dict"
            ]
          },
          "metadata": {},
          "execution_count": 43
        }
      ]
    },
    {
      "cell_type": "code",
      "source": [
        "type('python')"
      ],
      "metadata": {
        "colab": {
          "base_uri": "https://localhost:8080/"
        },
        "id": "21_DDacDS2ha",
        "outputId": "ad0957e9-5280-47cf-d8fa-70d497e6048a"
      },
      "execution_count": 45,
      "outputs": [
        {
          "output_type": "execute_result",
          "data": {
            "text/plain": [
              "str"
            ]
          },
          "metadata": {},
          "execution_count": 45
        }
      ]
    },
    {
      "cell_type": "markdown",
      "source": [
        "dir( ) : 자료형의 내장함수를 검색할 수 있다."
      ],
      "metadata": {
        "id": "IpHY4ykYS7mz"
      }
    },
    {
      "cell_type": "code",
      "source": [
        "print(dir(str))"
      ],
      "metadata": {
        "colab": {
          "base_uri": "https://localhost:8080/"
        },
        "id": "wLsmpoTATkwa",
        "outputId": "0e7dd967-8e08-4a9c-a595-1e8a8b8711fe"
      },
      "execution_count": 47,
      "outputs": [
        {
          "output_type": "stream",
          "name": "stdout",
          "text": [
            "['__add__', '__class__', '__contains__', '__delattr__', '__dir__', '__doc__', '__eq__', '__format__', '__ge__', '__getattribute__', '__getitem__', '__getnewargs__', '__gt__', '__hash__', '__init__', '__init_subclass__', '__iter__', '__le__', '__len__', '__lt__', '__mod__', '__mul__', '__ne__', '__new__', '__reduce__', '__reduce_ex__', '__repr__', '__rmod__', '__rmul__', '__setattr__', '__sizeof__', '__str__', '__subclasshook__', 'capitalize', 'casefold', 'center', 'count', 'encode', 'endswith', 'expandtabs', 'find', 'format', 'format_map', 'index', 'isalnum', 'isalpha', 'isascii', 'isdecimal', 'isdigit', 'isidentifier', 'islower', 'isnumeric', 'isprintable', 'isspace', 'istitle', 'isupper', 'join', 'ljust', 'lower', 'lstrip', 'maketrans', 'partition', 'removeprefix', 'removesuffix', 'replace', 'rfind', 'rindex', 'rjust', 'rpartition', 'rsplit', 'rstrip', 'split', 'splitlines', 'startswith', 'strip', 'swapcase', 'title', 'translate', 'upper', 'zfill']\n"
          ]
        }
      ]
    },
    {
      "cell_type": "code",
      "source": [
        "print(dir(list))"
      ],
      "metadata": {
        "colab": {
          "base_uri": "https://localhost:8080/"
        },
        "id": "mO3UvH9BTqcS",
        "outputId": "b79c108f-3bb0-4840-c742-7d9e7e41bf7e"
      },
      "execution_count": 48,
      "outputs": [
        {
          "output_type": "stream",
          "name": "stdout",
          "text": [
            "['__add__', '__class__', '__class_getitem__', '__contains__', '__delattr__', '__delitem__', '__dir__', '__doc__', '__eq__', '__format__', '__ge__', '__getattribute__', '__getitem__', '__gt__', '__hash__', '__iadd__', '__imul__', '__init__', '__init_subclass__', '__iter__', '__le__', '__len__', '__lt__', '__mul__', '__ne__', '__new__', '__reduce__', '__reduce_ex__', '__repr__', '__reversed__', '__rmul__', '__setattr__', '__setitem__', '__sizeof__', '__str__', '__subclasshook__', 'append', 'clear', 'copy', 'count', 'extend', 'index', 'insert', 'pop', 'remove', 'reverse', 'sort']\n"
          ]
        }
      ]
    },
    {
      "cell_type": "code",
      "source": [
        "a = [1, 2, 3]\n",
        "print(a.__dir__())"
      ],
      "metadata": {
        "colab": {
          "base_uri": "https://localhost:8080/"
        },
        "id": "UsqfNnndUG3Z",
        "outputId": "ec25e6de-240b-4b45-a50e-3eeb93203ca9"
      },
      "execution_count": 50,
      "outputs": [
        {
          "output_type": "stream",
          "name": "stdout",
          "text": [
            "['__new__', '__repr__', '__hash__', '__getattribute__', '__lt__', '__le__', '__eq__', '__ne__', '__gt__', '__ge__', '__iter__', '__init__', '__len__', '__getitem__', '__setitem__', '__delitem__', '__add__', '__mul__', '__rmul__', '__contains__', '__iadd__', '__imul__', '__reversed__', '__sizeof__', 'clear', 'copy', 'append', 'insert', 'extend', 'pop', 'remove', 'index', 'count', 'reverse', 'sort', '__class_getitem__', '__doc__', '__str__', '__setattr__', '__delattr__', '__reduce_ex__', '__reduce__', '__subclasshook__', '__init_subclass__', '__format__', '__dir__', '__class__']\n"
          ]
        }
      ]
    },
    {
      "cell_type": "markdown",
      "source": [
        "help() : 자료형에서 제공하는 메소드 사용법을 검색할 수 있다."
      ],
      "metadata": {
        "id": "LRHj8xUWUqvS"
      }
    },
    {
      "cell_type": "code",
      "source": [
        "#help(str)\n",
        "help(str.index)"
      ],
      "metadata": {
        "colab": {
          "base_uri": "https://localhost:8080/"
        },
        "id": "1mkvVBHmVNZK",
        "outputId": "73d4500d-6983-4f0e-830a-1d5352166002"
      },
      "execution_count": 54,
      "outputs": [
        {
          "output_type": "stream",
          "name": "stdout",
          "text": [
            "Help on method_descriptor:\n",
            "\n",
            "index(...)\n",
            "    S.index(sub[, start[, end]]) -> int\n",
            "    \n",
            "    Return the lowest index in S where substring sub is found,\n",
            "    such that sub is contained within S[start:end].  Optional\n",
            "    arguments start and end are interpreted as in slice notation.\n",
            "    \n",
            "    Raises ValueError when the substring is not found.\n",
            "\n"
          ]
        }
      ]
    },
    {
      "cell_type": "code",
      "source": [
        "'hello'.index('l')"
      ],
      "metadata": {
        "colab": {
          "base_uri": "https://localhost:8080/"
        },
        "id": "PpH7bEKMVRZS",
        "outputId": "987b391a-1c59-4373-a56a-025a68fee25b"
      },
      "execution_count": 55,
      "outputs": [
        {
          "output_type": "execute_result",
          "data": {
            "text/plain": [
              "2"
            ]
          },
          "metadata": {},
          "execution_count": 55
        }
      ]
    },
    {
      "cell_type": "markdown",
      "source": [
        "## Sequence 자료형\n",
        "- Sequence은 여러 객체를 저장할 수 있는 순서를 갖는 연속된 자료형이다.\n",
        "- 자료형 종류 : str, tuple, list\n",
        "- sequence형의 공통적인 연산\n",
        "  - 인덱싱(indexing)\n",
        "  - 슬라이싱(slicing)\n",
        "  - 연결하기\n",
        "  - 반복하기\n",
        "  - 멤버 검사\n",
        "  - 길이정보"
      ],
      "metadata": {
        "id": "0sri6PW8WGi7"
      }
    },
    {
      "cell_type": "markdown",
      "source": [
        "문자열(str)\n",
        "\n",
        "문자열은 문자들을 표현하는 자료형으로 작은따옴표(')나 큰따옴표(\")로 묶는다.\n",
        "문자열의 슬라이싱 : [인덱스 시작 : 인덱스 끝 : 스텝]\n",
        "스텝의 default은 1의 값을 갖는다."
      ],
      "metadata": {
        "id": "SyTnrdEeaXpy"
      }
    },
    {
      "cell_type": "code",
      "source": [
        "a = 'Life is too short, You need python'\n",
        "print(a)"
      ],
      "metadata": {
        "colab": {
          "base_uri": "https://localhost:8080/"
        },
        "id": "Tqh3K-d3ad0a",
        "outputId": "e96054b3-399e-4f26-c8f1-eafdf774955e"
      },
      "execution_count": 57,
      "outputs": [
        {
          "output_type": "stream",
          "name": "stdout",
          "text": [
            "Life is too short, You need python\n"
          ]
        }
      ]
    },
    {
      "cell_type": "code",
      "source": [
        "# id : 메모리 고유 값\n",
        "a = \"Python's favorite food is perl\"\n",
        "print(a)\n",
        "print(id(a))\n",
        "\n",
        "a = '\"Pythons is very easy.\" he sats.'\n",
        "print(a)\n",
        "print(id(a))\n",
        "\n",
        "a = 'Python\\'s favorite food is perl'\n",
        "print(a)\n",
        "\n",
        "a = \"\\\"Pythons is very easy.\\\" he sats.\"\n",
        "print(a)"
      ],
      "metadata": {
        "colab": {
          "base_uri": "https://localhost:8080/"
        },
        "id": "D29hSH_KarxL",
        "outputId": "ade06ada-5542-4ace-822a-da575d496fce"
      },
      "execution_count": 64,
      "outputs": [
        {
          "output_type": "stream",
          "name": "stdout",
          "text": [
            "Python's favorite food is perl\n",
            "139860812446768\n",
            "\"Pythons is very easy.\" he sats.\n",
            "139860812626032\n",
            "Python's favorite food is perl\n",
            "\"Pythons is very easy.\" he sats.\n"
          ]
        }
      ]
    },
    {
      "cell_type": "code",
      "source": [
        "b = \"\"\"\n",
        "    Life is too short\n",
        "    You need python\n",
        "\"\"\"\n",
        "print(b)\n",
        "\n",
        "b = '''\n",
        "   Life is too short\n",
        "   You need python\n",
        "'''\n",
        "print(b)"
      ],
      "metadata": {
        "colab": {
          "base_uri": "https://localhost:8080/"
        },
        "id": "qiZ5cz3PbKDL",
        "outputId": "2e7bf1f0-6b25-458a-c8b2-f67f9684b108"
      },
      "execution_count": 66,
      "outputs": [
        {
          "output_type": "stream",
          "name": "stdout",
          "text": [
            "\n",
            "    Life is too short\n",
            "    You need python\n",
            "\n",
            "\n",
            "   Life is too short\n",
            "   You need python\n",
            "\n"
          ]
        }
      ]
    },
    {
      "cell_type": "code",
      "source": [
        "# 문자열 길이(공백도 포함)\n",
        "a = 'Life is too short'\n",
        "len(a)"
      ],
      "metadata": {
        "colab": {
          "base_uri": "https://localhost:8080/"
        },
        "id": "rJscEkECd8BL",
        "outputId": "a6a2fb17-b0d3-4347-b69c-66d84c4b20f1"
      },
      "execution_count": 67,
      "outputs": [
        {
          "output_type": "execute_result",
          "data": {
            "text/plain": [
              "17"
            ]
          },
          "metadata": {},
          "execution_count": 67
        }
      ]
    },
    {
      "cell_type": "code",
      "source": [
        "s_val = 'hello python!'\n",
        "print(s_val)"
      ],
      "metadata": {
        "colab": {
          "base_uri": "https://localhost:8080/"
        },
        "id": "J5dIPs_aeUPz",
        "outputId": "67b7313d-9a87-4b47-fa43-639173f03d49"
      },
      "execution_count": 68,
      "outputs": [
        {
          "output_type": "stream",
          "name": "stdout",
          "text": [
            "hello python!\n"
          ]
        }
      ]
    },
    {
      "cell_type": "code",
      "source": [
        "# indexing (인덱싱)\n",
        "s_val[1]"
      ],
      "metadata": {
        "colab": {
          "base_uri": "https://localhost:8080/",
          "height": 35
        },
        "id": "XEwK23jOembS",
        "outputId": "158d805a-fde6-469f-8920-36081e8697fd"
      },
      "execution_count": 72,
      "outputs": [
        {
          "output_type": "execute_result",
          "data": {
            "text/plain": [
              "'e'"
            ],
            "application/vnd.google.colaboratory.intrinsic+json": {
              "type": "string"
            }
          },
          "metadata": {},
          "execution_count": 72
        }
      ]
    },
    {
      "cell_type": "code",
      "source": [
        "# slicing (슬라이싱)  [start:end:step]\n",
        "s_val[0:3]"
      ],
      "metadata": {
        "colab": {
          "base_uri": "https://localhost:8080/",
          "height": 35
        },
        "id": "lW0cbPVseuQb",
        "outputId": "6e81e1a8-b306-4680-fa58-e526b8d4ba48"
      },
      "execution_count": 70,
      "outputs": [
        {
          "output_type": "execute_result",
          "data": {
            "text/plain": [
              "'hel'"
            ],
            "application/vnd.google.colaboratory.intrinsic+json": {
              "type": "string"
            }
          },
          "metadata": {},
          "execution_count": 70
        }
      ]
    },
    {
      "cell_type": "code",
      "source": [
        "s_val[1:]"
      ],
      "metadata": {
        "colab": {
          "base_uri": "https://localhost:8080/",
          "height": 35
        },
        "id": "sgCKz6vZfEcT",
        "outputId": "7641e171-feef-46dc-e111-56cd3a108e77"
      },
      "execution_count": 73,
      "outputs": [
        {
          "output_type": "execute_result",
          "data": {
            "text/plain": [
              "'ello python!'"
            ],
            "application/vnd.google.colaboratory.intrinsic+json": {
              "type": "string"
            }
          },
          "metadata": {},
          "execution_count": 73
        }
      ]
    },
    {
      "cell_type": "code",
      "source": [
        "print(s_val[0:])\n",
        "print(s_val[:])"
      ],
      "metadata": {
        "colab": {
          "base_uri": "https://localhost:8080/"
        },
        "id": "al7oastfgdhy",
        "outputId": "5f01aace-7073-438e-b64e-28d201fd489b"
      },
      "execution_count": 75,
      "outputs": [
        {
          "output_type": "stream",
          "name": "stdout",
          "text": [
            "hello python!\n",
            "hello python!\n"
          ]
        }
      ]
    },
    {
      "cell_type": "code",
      "source": [
        "s_val[-1]"
      ],
      "metadata": {
        "colab": {
          "base_uri": "https://localhost:8080/",
          "height": 35
        },
        "id": "RwSKP7uagqwb",
        "outputId": "12ae9ac5-2364-4a03-d170-c9d07a699365"
      },
      "execution_count": 76,
      "outputs": [
        {
          "output_type": "execute_result",
          "data": {
            "text/plain": [
              "'!'"
            ],
            "application/vnd.google.colaboratory.intrinsic+json": {
              "type": "string"
            }
          },
          "metadata": {},
          "execution_count": 76
        }
      ]
    },
    {
      "cell_type": "code",
      "source": [
        "s_val[-3:-1]"
      ],
      "metadata": {
        "colab": {
          "base_uri": "https://localhost:8080/",
          "height": 35
        },
        "id": "Fv2NCo2phL0a",
        "outputId": "412189d0-8a8b-4c82-84b7-937d85926615"
      },
      "execution_count": 77,
      "outputs": [
        {
          "output_type": "execute_result",
          "data": {
            "text/plain": [
              "'on'"
            ],
            "application/vnd.google.colaboratory.intrinsic+json": {
              "type": "string"
            }
          },
          "metadata": {},
          "execution_count": 77
        }
      ]
    },
    {
      "cell_type": "code",
      "source": [
        "s_val[::2]"
      ],
      "metadata": {
        "colab": {
          "base_uri": "https://localhost:8080/",
          "height": 35
        },
        "id": "SqRmvqNiheYj",
        "outputId": "d6b29e14-ed37-43d6-db1a-e7ea72ec7eae"
      },
      "execution_count": 78,
      "outputs": [
        {
          "output_type": "execute_result",
          "data": {
            "text/plain": [
              "'hlopto!'"
            ],
            "application/vnd.google.colaboratory.intrinsic+json": {
              "type": "string"
            }
          },
          "metadata": {},
          "execution_count": 78
        }
      ]
    },
    {
      "cell_type": "code",
      "source": [
        "s_val[::-1]"
      ],
      "metadata": {
        "colab": {
          "base_uri": "https://localhost:8080/",
          "height": 35
        },
        "id": "Hj7uhbjFhs3a",
        "outputId": "9dfa5e06-651b-403b-f987-43909a7a95bd"
      },
      "execution_count": 79,
      "outputs": [
        {
          "output_type": "execute_result",
          "data": {
            "text/plain": [
              "'!nohtyp olleh'"
            ],
            "application/vnd.google.colaboratory.intrinsic+json": {
              "type": "string"
            }
          },
          "metadata": {},
          "execution_count": 79
        }
      ]
    },
    {
      "cell_type": "code",
      "source": [
        "s_val[13::-1]"
      ],
      "metadata": {
        "colab": {
          "base_uri": "https://localhost:8080/",
          "height": 35
        },
        "id": "NEQDG5R_h3sb",
        "outputId": "8ed4abc9-1058-4c81-d7fe-d2f03a2b6c0a"
      },
      "execution_count": 81,
      "outputs": [
        {
          "output_type": "execute_result",
          "data": {
            "text/plain": [
              "'!nohtyp olleh'"
            ],
            "application/vnd.google.colaboratory.intrinsic+json": {
              "type": "string"
            }
          },
          "metadata": {},
          "execution_count": 81
        }
      ]
    },
    {
      "cell_type": "markdown",
      "source": [
        "문자열의 연결하기는 (+)연산자를 사용"
      ],
      "metadata": {
        "id": "lusPdIQTiIUr"
      }
    },
    {
      "cell_type": "code",
      "source": [
        "s_val2 = 'hello' + ' ' + 'python!'\n",
        "s_val2"
      ],
      "metadata": {
        "colab": {
          "base_uri": "https://localhost:8080/",
          "height": 35
        },
        "id": "iVnoSqfGi1t2",
        "outputId": "15a17c8a-c74d-487e-d50b-39551f085327"
      },
      "execution_count": 83,
      "outputs": [
        {
          "output_type": "execute_result",
          "data": {
            "text/plain": [
              "'hello python!'"
            ],
            "application/vnd.google.colaboratory.intrinsic+json": {
              "type": "string"
            }
          },
          "metadata": {},
          "execution_count": 83
        }
      ]
    },
    {
      "cell_type": "code",
      "source": [
        "# 파이썬은 다른 자료형끼리 (+)연산자를 사용할 수 없다.\n",
        "#s_val2 = 'hello' + 2"
      ],
      "metadata": {
        "id": "RNmdsOzLjBXI"
      },
      "execution_count": null,
      "outputs": []
    }
  ]
}